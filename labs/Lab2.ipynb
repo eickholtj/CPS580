{
  "nbformat": 4,
  "nbformat_minor": 0,
  "metadata": {
    "colab": {
      "name": "Lab2.ipynb",
      "provenance": [],
      "collapsed_sections": []
    },
    "kernelspec": {
      "name": "python3",
      "display_name": "Python 3"
    }
  },
  "cells": [
    {
      "cell_type": "markdown",
      "metadata": {
        "id": "KW-b-aWz472C",
        "colab_type": "text"
      },
      "source": [
        "# Lab 2\n",
        "\n",
        "Name:\n",
        "\n",
        "Date: "
      ]
    },
    {
      "cell_type": "markdown",
      "metadata": {
        "id": "WhjCBa_E2-5X",
        "colab_type": "text"
      },
      "source": [
        "1. Complete the starter code below per the in-line comments\n",
        "\n"
      ]
    },
    {
      "cell_type": "code",
      "metadata": {
        "id": "MUwSXYad1aWy",
        "colab_type": "code",
        "colab": {}
      },
      "source": [
        "z2_0 = 0.74\n",
        "\n",
        "prediction = 0\n",
        "target = 1\n",
        "correct_count = 0\n",
        "\n",
        "# if z2_0 is greater than .5, then set the prediction to 1 otherwise \n",
        "#   set prediction to 0\n",
        "\n",
        "# if the prediction is equal to target, increment correct_count\n"
      ],
      "execution_count": null,
      "outputs": []
    },
    {
      "cell_type": "markdown",
      "metadata": {
        "id": "SkQdUqeY5pnI",
        "colab_type": "text"
      },
      "source": [
        "2. Complete the function *net_pay* so that it calculates an employee's weekly enarnings.  Then test out the method.  \n",
        "\n"
      ]
    },
    {
      "cell_type": "code",
      "metadata": {
        "id": "DqMFkCsj-K-q",
        "colab_type": "code",
        "colab": {}
      },
      "source": [
        "def net_pay(hours_worked):\n",
        "\n",
        "  pay = 0.0\n",
        "\n",
        "  # base pay is $10/hr but if hours worked is over 40, then\n",
        "  #   pay is $15/hr for those hours over 40.\n",
        "\n",
        "  return pay\n",
        "\n",
        "print(\"Pay for working {} hours is {}\".format(45, net_pay(45)))\n",
        "print(\"Pay for working {} hours is {}\".format(30, net_pay(30)))\n",
        "\n",
        "# OR\n",
        "# for hours_worked in [45, 30]:\n",
        "#    print(\"Pry for working {} hours is {}\".format(hours_worked, net_pay(hours_worked)))\n",
        "\n"
      ],
      "execution_count": null,
      "outputs": []
    },
    {
      "cell_type": "markdown",
      "metadata": {
        "id": "P_r7nefMUYdu",
        "colab_type": "text"
      },
      "source": [
        "3. Complete the code so that it provides an appropriate response.  Input parameter can be set by embedding forms (see https://colab.research.google.com/notebooks/forms.ipynb#scrollTo=3jKM6GfzlgpS)."
      ]
    },
    {
      "cell_type": "code",
      "metadata": {
        "id": "Mpcw2zqPUmPc",
        "colab_type": "code",
        "colab": {
          "base_uri": "https://localhost:8080/",
          "height": 51
        },
        "outputId": "5348d41d-f90c-48db-d823-4344da2aac58"
      },
      "source": [
        "\n",
        "\n",
        "print(\"Did you answer the question correctly [y/n]?\")\n",
        "\n",
        "# Based on the response provided in the form, display an appropriate message\n",
        "\n"
      ],
      "execution_count": 1,
      "outputs": [
        {
          "output_type": "stream",
          "text": [
            "Did you answer the question correctly [y/n]?\n",
            "y\n"
          ],
          "name": "stdout"
        }
      ]
    },
    {
      "cell_type": "markdown",
      "metadata": {
        "id": "k1AJNmmwXDis",
        "colab_type": "text"
      },
      "source": [
        "4. Complete the functioned *forward_prop*.  Use the output of the method and increment *correct_count* as approriate.  Pull from Lab 1 and other parts of Lab 2 as approriate."
      ]
    },
    {
      "cell_type": "code",
      "metadata": {
        "id": "HNsRg-kFXUIJ",
        "colab_type": "code",
        "colab": {}
      },
      "source": [
        "import math\n",
        "\n",
        "def forward_prop(x_0, x_1, w1_00, w1_10, b1_0, w1_01, w1_11, b1_1, w2_00, w2_10, b2_0):\n",
        "\n",
        "  # Your implementation here.\n",
        "\n",
        "\n",
        "x_0 = .23\n",
        "x_1 = .74\n",
        "w1_00 = .01\n",
        "w1_10 = .02\n",
        "b1_0 = .05\n",
        "w1_01 = .5\n",
        "w1_11 = .03\n",
        "b1_1 = .06\n",
        "w2_00 = .5\n",
        "w2_10 = .25\n",
        "b2_0 = .1\n",
        "\n",
        "target = 1\n",
        "correct_count = 0\n",
        "\n",
        "# use model, set prediction and check with target, incrementing\n",
        "#   correct count as needed.\n",
        "\n",
        "print(correct_count)"
      ],
      "execution_count": null,
      "outputs": []
    },
    {
      "cell_type": "markdown",
      "metadata": {
        "id": "JzXLh9oO5O0I",
        "colab_type": "text"
      },
      "source": [
        "**Submission:** Submit this notebook and a PDF of its generated output via Blackboard by the end of the day.  Submit the files individually.\n",
        "\n",
        "\n"
      ]
    }
  ]
}