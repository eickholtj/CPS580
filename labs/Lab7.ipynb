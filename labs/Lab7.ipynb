{
  "nbformat": 4,
  "nbformat_minor": 0,
  "metadata": {
    "colab": {
      "name": "Lab7.ipynb",
      "provenance": [],
      "collapsed_sections": []
    },
    "kernelspec": {
      "name": "python3",
      "display_name": "Python 3"
    },
    "accelerator": "GPU"
  },
  "cells": [
    {
      "cell_type": "markdown",
      "metadata": {
        "id": "KW-b-aWz472C"
      },
      "source": [
        "# Lab 7\n",
        "\n",
        "Name: \n",
        "\n",
        "Date: \n",
        "\n",
        "**As you work through the code below, respond to all in-line comments and questions.**"
      ]
    },
    {
      "cell_type": "markdown",
      "metadata": {
        "id": "U6gjp_cg_QHK"
      },
      "source": [
        "This example will make use of the Newgroup data.  20 Newsgroup data can be found at:\n",
        "http://www.cs.cmu.edu/afs/cs.cmu.edu/project/theo-20/www/data/news20.html.  Some of the blocks of code are from Deep Learning with Python, 1st Edition, by Francois Chollet."
      ]
    },
    {
      "cell_type": "code",
      "metadata": {
        "id": "HWucCYLq_9gh"
      },
      "source": [
        "!mkdir -p /opt/data/news20\n",
        "!wget http://www.cs.cmu.edu/afs/cs.cmu.edu/project/theo-20/www/data/news20.tar.gz -O /opt/data/news20.tar.gz\n",
        "\n",
        "!tar xvf /opt/data/news20.tar.gz -C /opt/data/news20 > /dev/null"
      ],
      "execution_count": null,
      "outputs": []
    },
    {
      "cell_type": "code",
      "metadata": {
        "id": "OUN9lHju-1yc"
      },
      "source": [
        "import os, sys\n",
        "\n",
        "BASE_DIR = os.path.join(*['/','opt','data',])\n",
        "TEXT_DATA_DIR = os.path.join(BASE_DIR, 'news20','20_newsgroup')\n",
        "\n",
        "texts = []  # list of text samples\n",
        "labels_index = {}  # dictionary mapping label name to numeric id\n",
        "labels = []  # list of label ids\n",
        "for name in sorted(os.listdir(TEXT_DATA_DIR)):\n",
        "    path = os.path.join(TEXT_DATA_DIR, name)\n",
        "    if os.path.isdir(path):\n",
        "        label_id = len(labels_index)\n",
        "        labels_index[name] = label_id\n",
        "        for fname in sorted(os.listdir(path)):\n",
        "            if fname.isdigit():\n",
        "                fpath = os.path.join(path, fname)\n",
        "                args = {} if sys.version_info < (3,) else {'encoding': 'latin-1'}\n",
        "                with open(fpath, **args) as f:\n",
        "                    t = f.read()\n",
        "                    i = t.find('\\n\\n')  # skip header\n",
        "                    if 0 < i:\n",
        "                        t = t[i:]\n",
        "                    texts.append(t)\n",
        "                labels.append(label_id)\n",
        "\n",
        "print('Found %s texts.' % len(texts))\n",
        "print(labels[1000], texts[1000])"
      ],
      "execution_count": null,
      "outputs": []
    },
    {
      "cell_type": "code",
      "metadata": {
        "id": "__mX8WPWkP30"
      },
      "source": [
        "# Listing 6.9 from DLP\n",
        "\n",
        "MAX_SEQUENCE_LENGTH = 1000\n",
        "MAX_NUM_WORDS = 20000\n",
        "\n",
        "import numpy as np\n",
        "from keras.preprocessing.text import Tokenizer\n",
        "\n",
        "tokenizer = Tokenizer(num_words=MAX_NUM_WORDS)  # The maximum number of words that can be converted to sequences\n",
        "tokenizer.fit_on_texts(texts) # Need to examine the text to determine what the most frequent words are\n",
        "                                #  and retain these.\n",
        "\n",
        "sequences = tokenizer.texts_to_sequences(texts) # tokenizes and converts most common tokens to sequences\n",
        "\n",
        "word_index = tokenizer.word_index\n",
        "data = tokenizer.texts_to_matrix(texts, mode='binary') # Vector indicating presense of words in text\n"
      ],
      "execution_count": 3,
      "outputs": []
    },
    {
      "cell_type": "code",
      "metadata": {
        "id": "2rVXh3QyD2wI"
      },
      "source": [
        "# Listing 6.9 from DLP\n",
        "\n",
        "from keras.utils import to_categorical\n",
        "from keras.preprocessing.sequence import pad_sequences\n",
        "\n",
        "VALIDATION_SPLIT = 0.2\n",
        "\n",
        "data = pad_sequences(sequences, maxlen=MAX_SEQUENCE_LENGTH)\n",
        "targets = to_categorical(np.asarray(labels))\n",
        "\n",
        "# split the data into a training set and a validation set\n",
        "indices = np.arange(data.shape[0])\n",
        "np.random.shuffle(indices)\n",
        "data = data[indices]\n",
        "targets = targets[indices]\n",
        "\n",
        "print('Shape of data tensor:', data.shape)\n",
        "print('Shape of targets tensor:', targets.shape)\n",
        "\n",
        "N = int(VALIDATION_SPLIT * data.shape[0])\n",
        "train_X = data[:-N]\n",
        "train_Y = targets[:-N]\n",
        "val_X = data[-N:]\n",
        "val_Y = targets[-N:]\n"
      ],
      "execution_count": null,
      "outputs": []
    },
    {
      "cell_type": "markdown",
      "metadata": {
        "id": "a9xHEyx90f1G"
      },
      "source": [
        "Now train a simple classifier using the hot encoded input."
      ]
    },
    {
      "cell_type": "code",
      "metadata": {
        "id": "mC81fwKk3BUM"
      },
      "source": [
        "from keras.models import Sequential\n",
        "from keras.layers import Flatten, Dense, Embedding, Dropout\n",
        "\n"
      ],
      "execution_count": null,
      "outputs": []
    },
    {
      "cell_type": "markdown",
      "metadata": {
        "id": "CiLS361K3CsX"
      },
      "source": [
        "If we wanted use word embeddings instead of a hot-encoded vector, we could start by learning some word embeddings."
      ]
    },
    {
      "cell_type": "code",
      "metadata": {
        "id": "uswTm0m3n18C"
      },
      "source": [
        "EMBEDDING_DIM = 100\n",
        "\n",
        "\n"
      ],
      "execution_count": null,
      "outputs": []
    },
    {
      "cell_type": "markdown",
      "metadata": {
        "id": "gLhT-3ySjh2s"
      },
      "source": [
        "Let's used some pre-trained word embeddings such as [GloVe](https://nlp.stanford.edu/projects/glove/).  "
      ]
    },
    {
      "cell_type": "code",
      "metadata": {
        "id": "cYisqpg1rnwL"
      },
      "source": [
        "!wget http://nlp.stanford.edu/data/glove.6B.zip -O /opt/data/glove.6B.zip\n",
        "!unzip /opt/data/glove.6B.zip -d /opt/data/\n"
      ],
      "execution_count": null,
      "outputs": []
    },
    {
      "cell_type": "code",
      "metadata": {
        "id": "o3Ue6K8VOw5k",
        "outputId": "7bfac316-e47d-4a95-d339-db026314f523",
        "colab": {
          "base_uri": "https://localhost:8080/",
          "height": 34
        }
      },
      "source": [
        "# Listing 6.10 from DLP\n",
        "\n",
        "import os\n",
        "\n",
        "GLOVE_PATH = os.path.join(BASE_DIR, 'glove.6B.100d.txt')\n",
        "\n",
        "embeddings_index = {}\n",
        "with open(GLOVE_PATH) as f:\n",
        "    for line in f:\n",
        "        word, coefs = line.split(maxsplit=1)\n",
        "        coefs = np.fromstring(coefs, \"f\", sep=\" \")\n",
        "        embeddings_index[word] = coefs\n",
        "\n",
        "print(\"Found %s word vectors.\" % len(embeddings_index))\n"
      ],
      "execution_count": 11,
      "outputs": [
        {
          "output_type": "stream",
          "text": [
            "Found 400000 word vectors.\n"
          ],
          "name": "stdout"
        }
      ]
    },
    {
      "cell_type": "code",
      "metadata": {
        "id": "-kdhyyUbVNbM"
      },
      "source": [
        "# Listing 6.11 from DLP\n",
        "\n",
        "embedding_matrix = np.zeros((MAX_NUM_WORDS, EMBEDDING_DIM))\n",
        "for word, i in word_index.items():\n",
        "  if i < MAX_NUM_WORDS:\n",
        "    embedding_vector = embeddings_index.get(word)\n",
        "    if embedding_vector is not None:\n",
        "      embedding_matrix[i] = embedding_vector\n",
        "\n"
      ],
      "execution_count": 13,
      "outputs": []
    },
    {
      "cell_type": "markdown",
      "metadata": {
        "id": "W6HNaHJqQ33O"
      },
      "source": [
        "Try training and evaluating a model that used existing word embeddings."
      ]
    }
  ]
}