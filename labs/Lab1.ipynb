{
  "nbformat": 4,
  "nbformat_minor": 0,
  "metadata": {
    "colab": {
      "name": "Lab1.ipynb",
      "provenance": [],
      "collapsed_sections": []
    },
    "kernelspec": {
      "name": "python3",
      "display_name": "Python 3"
    }
  },
  "cells": [
    {
      "cell_type": "markdown",
      "metadata": {
        "id": "KW-b-aWz472C",
        "colab_type": "text"
      },
      "source": [
        "# Lab 1\n",
        "\n",
        "Name:\n",
        "\n",
        "Date: "
      ]
    },
    {
      "cell_type": "markdown",
      "metadata": {
        "id": "WhjCBa_E2-5X",
        "colab_type": "text"
      },
      "source": [
        "1. Provide code that contains two variables, x and y, and then calculates and displays the product.  The output should resemble the following...\n",
        "\n",
        "\n",
        "> *The product of 4 and 5 is 20.*\n",
        "\n",
        "Hints: [Formatting output in Python](https://www.geeksforgeeks.org/python-output-formatting/)\n",
        "\n"
      ]
    },
    {
      "cell_type": "code",
      "metadata": {
        "id": "MUwSXYad1aWy",
        "colab_type": "code",
        "colab": {}
      },
      "source": [
        "x = 4\n",
        "y = 5 \n",
        "\n",
        "# Calculate the product and display it\n",
        "print(\"The product of\", x, \"and\", y, \"is\", x * y, \".\")\n",
        "print(\"The product of {} and {} is {}.\".format(x, y, x*y))\n",
        "print(\"The product of %d and %d is %d.\" % (x, y, x*y))\n"
      ],
      "execution_count": null,
      "outputs": []
    },
    {
      "cell_type": "markdown",
      "metadata": {
        "id": "SkQdUqeY5pnI",
        "colab_type": "text"
      },
      "source": [
        "2. Provide code that contains performs the following calculations.  *Note: To calculate e^x, first import math and then call math.exp(x).  Use intermediate variables and values to check your calculations.*\n",
        "\n",
        "![Formulas](https://github.com/eickholtj/CPS580/raw/master/img/forward-prop.png)\n",
        "\n"
      ]
    },
    {
      "cell_type": "code",
      "metadata": {
        "id": "DqMFkCsj-K-q",
        "colab_type": "code",
        "colab": {}
      },
      "source": [
        "from math import exp\n",
        "\n",
        "def sigmoid(x):\n",
        "  return (1. / (1 + exp(-x)))\n"
      ],
      "execution_count": null,
      "outputs": []
    },
    {
      "cell_type": "markdown",
      "metadata": {
        "id": "JzXLh9oO5O0I",
        "colab_type": "text"
      },
      "source": [
        "**Submission:** Submit this notebook and a PDF of all output via Blackboard by the end of the day.  \n",
        "\n",
        "\n"
      ]
    }
  ]
}
