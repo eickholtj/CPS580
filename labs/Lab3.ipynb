{
  "nbformat": 4,
  "nbformat_minor": 0,
  "metadata": {
    "colab": {
      "name": "Lab3.ipynb",
      "provenance": [],
      "collapsed_sections": []
    },
    "kernelspec": {
      "name": "python3",
      "display_name": "Python 3"
    }
  },
  "cells": [
    {
      "cell_type": "markdown",
      "metadata": {
        "id": "KW-b-aWz472C",
        "colab_type": "text"
      },
      "source": [
        "# Lab 3\n",
        "\n",
        "Name:\n",
        "\n",
        "Date: \n",
        "\n",
        "**As you work through the code below, respond to all in-line comments and questions.**"
      ]
    },
    {
      "cell_type": "markdown",
      "metadata": {
        "id": "DpJphN8RtD2Y",
        "colab_type": "text"
      },
      "source": [
        "Define matrices W1, W2, B1 and B2.  Take the values from In-Class Activity 1.\n",
        "\n",
        "<img src=\"https://github.com/eickholtj/CPS580/raw/master/img/weight-matrices.png\">\n",
        "\n",
        "[Matrices can be created](https://numpy.org/doc/stable/reference/generated/numpy.array.html#numpy.array) from lists or empty.\n",
        "\n"
      ]
    },
    {
      "cell_type": "code",
      "metadata": {
        "id": "Gnzm9KButH5W",
        "colab_type": "code",
        "colab": {}
      },
      "source": [
        "import numpy as np\n",
        "# W1 = \n",
        "\n",
        "#print(W1.shape)\n",
        "#print(W2.shape)\n",
        "#print(B1.shape)\n",
        "#print(B2.shape)"
      ],
      "execution_count": null,
      "outputs": []
    },
    {
      "cell_type": "markdown",
      "metadata": {
        "id": "83hzrFYOs8ay",
        "colab_type": "text"
      },
      "source": [
        "Now let's define X to contain the examples (.1, .8) and (.2, .5).  Then run them through the network defined by W and B.  Use the sigmoid activation energy.  The rule to calculate A is X.W + B and Z is sigmoid(A)."
      ]
    },
    {
      "cell_type": "code",
      "metadata": {
        "id": "I4hjcK4VtAaN",
        "colab_type": "code",
        "colab": {}
      },
      "source": [
        "import math\n",
        "\n",
        "def sigmoid(x):\n",
        "    \"Numerically stable sigmoid function.\"\n",
        "    if x >= 0:\n",
        "        z = math.exp(-x)\n",
        "        return 1 / (1 + z)\n",
        "    else:\n",
        "        # if x is less than zero then z will be small, denom can't be\n",
        "        # zero because it's 1+z.\n",
        "        z = math.exp(x)\n",
        "        return z / (1 + z)\n",
        "\n",
        "X = np.array([[.1,.8], [.2, .5]])\n",
        "\n",
        "# Let's calculate a forward pass.  Compare the results with what you obtained when \n",
        "#  worked these out by hand.\n",
        "#A1 = \n",
        "\n",
        "print(\"The values of the hidden layer are \")\n",
        "#print(Z1)\n",
        "\n",
        "print(\"The raw output of the network is \")\n",
        "#print(Z2)\n"
      ],
      "execution_count": null,
      "outputs": []
    },
    {
      "cell_type": "markdown",
      "metadata": {
        "id": "63Y5k-Uh_iR1",
        "colab_type": "text"
      },
      "source": [
        "Using a decision threshold of 0.5, generate predictions and calculate the accuracy of the predictions if the true targets are 0 and 1.  "
      ]
    },
    {
      "cell_type": "code",
      "metadata": {
        "id": "PeRUqGmI_9hT",
        "colab_type": "code",
        "colab": {}
      },
      "source": [
        "raw_preds = Z2\n",
        "\n",
        "# Targets \n",
        "targets = np.array([[0], [1]], dtype=np.int32)\n",
        "\n",
        "# Set the predictions\n",
        "\n",
        "\n",
        "# Calculate the number of correct predictions\n",
        "# correct = \n",
        "# total = \n",
        "\n",
        "print(\"The number of correct predictions was {} of {} total predictions.\".format(correct, total))\n",
        "print(\"The accuracy is {}\".format(correct / total))"
      ],
      "execution_count": null,
      "outputs": []
    },
    {
      "cell_type": "markdown",
      "metadata": {
        "id": "H7mYkUcLl83g",
        "colab_type": "text"
      },
      "source": [
        "Let's first read in some data using the [loadtxt](https://numpy.org/doc/stable/reference/generated/numpy.loadtxt.html) function of numpy.  This allows you to read in data from a text file (e.g., csv) and will return a ndarray.  The [shape attribute](https://numpy.org/doc/stable/reference/generated/numpy.ndarray.shape.html) provides a tuple with the length in each dimension.    "
      ]
    },
    {
      "cell_type": "code",
      "metadata": {
        "id": "4gDOiQgCk_T5",
        "colab_type": "code",
        "colab": {}
      },
      "source": [
        "import urllib.request as urllib\n",
        "import numpy as np\n",
        "\n",
        "# Read in the data from a URL; works for small datasets\n",
        "url = \"https://github.com/eickholtj/CPS580/raw/master/data/game-data.txt\"\n",
        "file = urllib.urlopen(url)\n",
        "data = np.loadtxt(file)\n",
        "\n",
        "# Display the type of 'data'.  What are its dimensions?  What type of tensor is\n",
        "#   it?  \n",
        "\n"
      ],
      "execution_count": null,
      "outputs": []
    },
    {
      "cell_type": "markdown",
      "metadata": {
        "id": "0MmMM1iRqq6J",
        "colab_type": "text"
      },
      "source": [
        "Let's select some some subsets of data using sliding and other [indexing features](https://numpy.org/doc/stable/reference/arrays.indexing.html)."
      ]
    },
    {
      "cell_type": "code",
      "metadata": {
        "id": "QD_JJd0cq-pd",
        "colab_type": "code",
        "colab": {}
      },
      "source": [
        "# Pull out the first 10 rows, the last column, and every other row\n",
        "\n",
        "\n",
        "\n",
        "                    # start_idx:stop_idx:step_size and empty values are \n",
        "                    #   interpreted to be as large as possible\n",
        "\n",
        "\n",
        "# Split the data into two sets\n",
        "\n"
      ],
      "execution_count": null,
      "outputs": []
    },
    {
      "cell_type": "markdown",
      "metadata": {
        "id": "xm4LoAyXp58S",
        "colab_type": "text"
      },
      "source": [
        "Now let's randomize the order of the examples (i.e., the rows) in the data."
      ]
    },
    {
      "cell_type": "code",
      "metadata": {
        "id": "mYgw_QdfnG3i",
        "colab_type": "code",
        "colab": {}
      },
      "source": [
        "\n",
        "indices = np.arange(data.shape[0])\n",
        "np.random.shuffle(indices)\n",
        "\n",
        "data = data[indices,:]\n"
      ],
      "execution_count": null,
      "outputs": []
    },
    {
      "cell_type": "markdown",
      "metadata": {
        "id": "WhjCBa_E2-5X",
        "colab_type": "text"
      },
      "source": [
        "Pulling all of these pieces together, we will train a simple neural network with our simulated data and back propagation.  Apply the SimpleNN class to our game data."
      ]
    },
    {
      "cell_type": "code",
      "metadata": {
        "id": "G8vqpLTs34jy",
        "colab_type": "code",
        "colab": {}
      },
      "source": [
        "import numpy as np\n",
        "import sys\n",
        "import math\n",
        "\n",
        "def sigmoid(x):\n",
        "    \"Numerically stable sigmoid function.\"\n",
        "    if x >= 0:\n",
        "        z = math.exp(-x)\n",
        "        return 1 / (1 + z)\n",
        "    else:\n",
        "        # if x is less than zero then z will be small, denom can't be\n",
        "        # zero because it's 1+z.\n",
        "        z = math.exp(x)\n",
        "        return z / (1 + z)\n",
        "\n",
        "def sigmoid_prime(x):\n",
        "    return sigmoid(x) * sigmoid(1-x)\n",
        "\n",
        "\n",
        "class SimpleNN:\n",
        "    W1 = None\n",
        "    B1 = None\n",
        "    W2 = None\n",
        "    B2 = None\n",
        "    training_X = None\n",
        "    training_Y = None\n",
        "\n",
        "    def __init__(self, MidLayerSize, training_X, training_Y):\n",
        "        self.W1 = np.random.rand(training_X.shape[1], int(MidLayerSize))\n",
        "        self.W1 = 0.01 * self.W1 \n",
        "        self.B1 = np.random.rand(1, int(MidLayerSize))\n",
        "        self.B1 = 0.01 * self.B1\n",
        "\n",
        "        self.W2 = np.random.rand(int(MidLayerSize), 1)\n",
        "        self.W2 = 0.01 * self.W2 \n",
        "        self.B2 = np.random.rand(1,1)\n",
        "        self.B2 = 0.01 * self.B2\n",
        "\n",
        "        self.training_X = training_X\n",
        "        self.training_Y = training_Y\n",
        "\n",
        "    def apply(self, X):\n",
        "\n",
        "        A1 = np.dot(X, self.W1) + self.B1\n",
        "        Z1 = np.vectorize(sigmoid)(A1)\n",
        "\n",
        "        A2 = np.dot(Z1, self.W2) + self.B2\n",
        "        Z2 = np.vectorize(sigmoid)(A2)\n",
        "\n",
        "        return Z2\n",
        "\n",
        "    def evaluate(self, X, Y):\n",
        "        O = self.apply(X)\n",
        "        \n",
        "        P = np.zeros(O.shape)\n",
        "        for i in range(P.shape[0]):\n",
        "            if O[i] > 0.5:\n",
        "                P[i] = 1\n",
        " \n",
        "        correct_count = 0\n",
        "        for i in range(P.shape[0]):\n",
        "            if abs(Y[i] - P[i]) < 0.001:\n",
        "               correct_count = correct_count + 1\n",
        "\n",
        "        print(\"Accuracy \", 1.0 * correct_count / Y.shape[0])\n",
        "          \n",
        "    def train(self, epochs, batch_size, learning_rate):\n",
        "       for i in range(0, epochs):\n",
        "           print(\"Starting epoch \", i + 1)\n",
        "\n",
        "           for j in range(0, int(self.training_X.shape[0] / batch_size)):\n",
        "               # print(\"... batch \", j + 1)\n",
        "\n",
        "               Xt = self.training_X[j*batch_size:(j+1)*batch_size,:]\n",
        "               Yt = self.training_Y[j*batch_size:(j+1)*batch_size]\n",
        "\n",
        "               # Forward pass\n",
        "               A1 = np.dot(Xt, self.W1) + np.dot(np.ones((Xt.shape[0],1)), self.B1)\n",
        "               Z1 = np.vectorize(sigmoid)(A1)\n",
        "\n",
        "               A2 = np.dot(Z1, self.W2) + np.dot(np.ones((Z1.shape[0],1)), self.B2)\n",
        "               Z2 = np.vectorize(sigmoid)(A2)\n",
        "\n",
        "               # Calculate D\n",
        "               D2 = (Z2 - np.reshape(Yt, (Z2.shape[0],1))) * np.vectorize(sigmoid_prime)(A2)\n",
        "               D1 = np.dot(D2, np.transpose(self.W2))  * np.vectorize(sigmoid_prime)(A1)\n",
        "\n",
        "               DE_dw2 = np.dot(np.transpose(Z1) , D2)               \n",
        "               DE_dw1 = np.dot(np.transpose(Xt) , D1)\n",
        "\n",
        "               # Update weights               \n",
        "               self.W2 = self.W2 - learning_rate * DE_dw2 \n",
        "               self.W1 = self.W1 - learning_rate * DE_dw1\n",
        "               #self.B2 = self.B2 - learning_rate * D2\n",
        "               #self.B1 = self.B1 - learning_rate * D1\n",
        "               \n",
        "           self.evaluate(Xt, Yt)\n",
        "\n",
        "\n",
        "\n",
        "# Randomize the data, the pull of 80% for training and split into X, Y\n",
        "indices = np.arange(data.shape[0])\n",
        "np.random.shuffle(indices)\n",
        "\n",
        "data = data[indices,:]\n",
        "N = int(.8 * data.shape[0])\n",
        "\n",
        "train_X = data[:N,0:2]\n",
        "train_Y = data[:N,2]\n",
        "test_X = data[N:,0:2]\n",
        "test_Y = data[N:,2]\n",
        "\n",
        "nn = SimpleNN(2, train_X, train_Y)\n",
        "\n",
        "nn.train(15, 50, 0.01)\n",
        "nn.apply(test_X)\n",
        "\n",
        "nn.evaluate(test_X, test_Y)\t\n"
      ],
      "execution_count": null,
      "outputs": []
    },
    {
      "cell_type": "markdown",
      "metadata": {
        "id": "9E1HEskrQju3",
        "colab_type": "text"
      },
      "source": [
        "Now let's look at some image data.  Keras provides easy access to the [MNIST dataset](https://keras.io/api/datasets/mnist/#load_data-function)."
      ]
    },
    {
      "cell_type": "code",
      "metadata": {
        "id": "S3LvgNGJQi8v",
        "colab_type": "code",
        "colab": {}
      },
      "source": [
        "from tensorflow.keras.datasets import mnist\n",
        "\n",
        "(train_X, train_Y), (test_X, test_Y) = mnist.load_data()\n",
        "\n",
        "# How the training image data is packaged?  How are the labels encoded?\n",
        "\n",
        "\n",
        "# Come up with a way to visualize the data\n",
        "np.set_printoptions(linewidth=200)\n",
        "\n"
      ],
      "execution_count": null,
      "outputs": []
    },
    {
      "cell_type": "markdown",
      "metadata": {
        "id": "OOVEuVvQUcSS",
        "colab_type": "text"
      },
      "source": [
        "Let's try to develop a classifer that will work on the MNIST data.  We've only seen binary classifiers so far so we need to just pull out two types of digits."
      ]
    },
    {
      "cell_type": "code",
      "metadata": {
        "id": "QFqHWtoJUvp4",
        "colab_type": "code",
        "colab": {}
      },
      "source": [
        "one_indices = np.where(train_Y[:] == 0)\n",
        "zero_indices = np.where(train_Y[:] == 1)\n",
        "\n",
        "one_zero_indices = np.concatenate((one_indices, zero_indices), axis=1).flatten()\n",
        "np.random.shuffle(one_zero_indices)\n",
        "\n",
        "subtrain_X = train_X[one_zero_indices,:]\n",
        "subtrain_Y = train_Y[one_zero_indices]\n",
        "\n",
        "# Try to figure out how many of each digit there are...\n",
        "\n",
        "# Reshape X to be a 2d tensor so that it will fit into SimpleNN\n",
        "subtrain_X = np.reshape(subtrain_X, (subtrain_X.shape[0], -1))\n",
        "\n",
        "# Normalize the feature in x to be between 0 and 1\n",
        "subtrain_X = subtrain_X / 255.\n",
        "\n",
        "nn = SimpleNN(25, subtrain_X, subtrain_Y)\n",
        "nn.train(15, 50, 0.0001)\n",
        "\n",
        "# Try to evaluate on data from the test data"
      ],
      "execution_count": null,
      "outputs": []
    },
    {
      "cell_type": "markdown",
      "metadata": {
        "id": "JzXLh9oO5O0I",
        "colab_type": "text"
      },
      "source": [
        "**Submission:** Submit this notebook and a PDF of its generated output via Blackboard by the end of the day.  Submit the files individually.\n",
        "\n",
        "\n"
      ]
    }
  ]
}