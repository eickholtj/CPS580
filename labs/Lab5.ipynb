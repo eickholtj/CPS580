{
  "nbformat": 4,
  "nbformat_minor": 0,
  "metadata": {
    "colab": {
      "name": "Lab5.ipynb",
      "provenance": [],
      "collapsed_sections": []
    },
    "kernelspec": {
      "name": "python3",
      "display_name": "Python 3"
    },
    "accelerator": "GPU"
  },
  "cells": [
    {
      "cell_type": "markdown",
      "metadata": {
        "id": "KW-b-aWz472C",
        "colab_type": "text"
      },
      "source": [
        "# Lab 5\n",
        "\n",
        "Name:\n",
        "\n",
        "Date: \n",
        "\n",
        "**As you work through the code below, respond to all in-line comments and questions.**"
      ]
    },
    {
      "cell_type": "markdown",
      "metadata": {
        "id": "QRRGE5n5kXxX",
        "colab_type": "text"
      },
      "source": [
        "Build and evaluate models for the data below.  The first column contains the target values and the remaining 90 columns contain data that should be useful for task of predicting the target value.  \n",
        "\n",
        "The data is stored in a 2D tensor and following the standard convention, each row representes an example (i.e., target and input data for one example).\n",
        "\n",
        "That data comes from the UCI Machine Learning Repository \\[1,2\\].  You should not research the data or solutions to this problem.  You may use the textbook or other examples we have worked out.  You are also encouraged to work with a classmate but each student should still submit a notebook.  Let's see how can achieve the best performance on the test data."
      ]
    },
    {
      "cell_type": "code",
      "metadata": {
        "id": "te4dcXOqZrOa",
        "colab_type": "code",
        "colab": {}
      },
      "source": [
        "import urllib.request as urllib\n",
        "import numpy as np\n",
        "\n",
        "# Read in the data from a URL; works for small datasets\n",
        "train_url = \"https://github.com/eickholtj/CPS580/raw/master/data/YearPredictionMSD.train.txt\"\n",
        "train_data_file = urllib.urlopen(train_url)\n",
        "train_data = np.loadtxt(train_data_file, delimiter=',')\n",
        "\n",
        "# Read in the data from a URL; works for small datasets\n",
        "test_url = \"https://github.com/eickholtj/CPS580/raw/master/data/YearPredictionMSD.test.txt\"\n",
        "test_data_file = urllib.urlopen(test_url)\n",
        "test_data = np.loadtxt(test_data_file, delimiter=',')\n",
        "\n",
        "# Process data, train and evaluate model "
      ],
      "execution_count": 4,
      "outputs": []
    },
    {
      "cell_type": "markdown",
      "metadata": {
        "id": "vXz-z_JQbNcV",
        "colab_type": "text"
      },
      "source": [
        "Provide a summary here of what you did and why?  Report the performance of your best architecture and training procedure.\n",
        "\n",
        "*Your Response*"
      ]
    },
    {
      "cell_type": "markdown",
      "metadata": {
        "id": "JzXLh9oO5O0I",
        "colab_type": "text"
      },
      "source": [
        "**Submission:** Submit this notebook and a PDF of its generated output via Blackboard by the end of the due day.  Submit the files individually.\n",
        "\n",
        "\n"
      ]
    },
    {
      "cell_type": "markdown",
      "metadata": {
        "id": "z1flMtUyZa0T",
        "colab_type": "text"
      },
      "source": [
        "1. Dua, D. and Karra Taniskidou, E. (2017). UCI Machine Learning Repository\n",
        "[http://archive.ics.uci.edu/ml]. Irvine, CA: University of California, School of Information and Computer Science.\n",
        "\n",
        "2. https://archive.ics.uci.edu/ml/datasets/yearpredictionmsd"
      ]
    }
  ]
}